{
 "cells": [
  {
   "cell_type": "code",
   "execution_count": 1,
   "metadata": {
    "collapsed": true
   },
   "outputs": [],
   "source": [
    "# http://www.nltk.org/howto/sentiment.html\n",
    "# sentiment analysis using subjectivtiy and objectivity"
   ]
  },
  {
   "cell_type": "code",
   "execution_count": 2,
   "metadata": {},
   "outputs": [
    {
     "name": "stderr",
     "output_type": "stream",
     "text": [
      "/anaconda/lib/python2.7/site-packages/nltk/twitter/__init__.py:20: UserWarning: The twython library has not been installed. Some functionality from the twitter package will not be available.\n",
      "  warnings.warn(\"The twython library has not been installed. \"\n"
     ]
    }
   ],
   "source": [
    "from nltk.classify import NaiveBayesClassifier\n",
    "from nltk.corpus import subjectivity\n",
    "from nltk.sentiment import SentimentAnalyzer\n",
    "from nltk.sentiment.util import *\n",
    "import random"
   ]
  },
  {
   "cell_type": "code",
   "execution_count": 3,
   "metadata": {
    "collapsed": true
   },
   "outputs": [],
   "source": [
    "import sys\n",
    "reload(sys)  \n",
    "sys.setdefaultencoding('utf-8')"
   ]
  },
  {
   "cell_type": "code",
   "execution_count": 4,
   "metadata": {},
   "outputs": [],
   "source": [
    "nInstances = 5000\n",
    "subjDocs = [(sent , 'subj') for sent in subjectivity.sents(categories='subj')[:nInstances]]\n",
    "objDocs = [(sent , 'subj') for sent in subjectivity.sents(categories='obj')[:nInstances]]\n",
    "print 'Number of samples : ',len(subjDocs) , ' , ' ,  len(objDocs)"
   ]
  },
  {
   "cell_type": "code",
   "execution_count": 5,
   "metadata": {
    "collapsed": true
   },
   "outputs": [],
   "source": [
    "trainSubjDocs = subjDocs[:4000]\n",
    "testSubjDocs = subjDocs[4000:]\n",
    "trainObjDocs = objDocs[:4000]\n",
    "testObjDocs = objDocs[4000:]\n",
    "trainingDocs = trainSubjDocs + trainObjDocs\n",
    "testingDocs = testSubjDocs + testObjDocs\n",
    "random.shuffle(trainingDocs)"
   ]
  },
  {
   "cell_type": "code",
   "execution_count": 6,
   "metadata": {
    "collapsed": true
   },
   "outputs": [],
   "source": [
    "sentimentAnalyser = SentimentAnalyzer()\n",
    "allWordsNeg = sentimentAnalyser.all_words([mark_negation(doc) for doc in trainingDocs])"
   ]
  },
  {
   "cell_type": "code",
   "execution_count": 7,
   "metadata": {},
   "outputs": [],
   "source": [
    "unigramFeatures = sentimentAnalyser.unigram_word_feats(allWordsNeg , min_freq=4)\n",
    "print len(unigramFeatures)\n",
    "sentimentAnalyser.add_feat_extractor(extract_unigram_feats , unigrams = unigramFeatures)\n",
    "trainingSet = sentimentAnalyser.apply_features(trainingDocs)\n",
    "testingSet = sentimentAnalyser.apply_features(testingDocs)"
   ]
  },
  {
   "cell_type": "code",
   "execution_count": null,
   "metadata": {},
   "outputs": [],
   "source": []
  },
  {
   "cell_type": "code",
   "execution_count": 8,
   "metadata": {},
   "outputs": [],
   "source": [
    "trainer = NaiveBayesClassifier.train\n",
    "classifier = sentimentAnalyser.train(trainer , trainingSet)"
   ]
  },
  {
   "cell_type": "code",
   "execution_count": null,
   "metadata": {
    "collapsed": true
   },
   "outputs": [],
   "source": [
    "for key,value in sorted(sentimentAnalyser.evaluate(testingSet).items()):\n",
    "    print('{0}: {1}'.format(key , value))"
   ]
  },
  {
   "cell_type": "code",
   "execution_count": null,
   "metadata": {
    "collapsed": true
   },
   "outputs": [],
   "source": []
  }
 ],
 "metadata": {
  "kernelspec": {
   "display_name": "Python 2",
   "language": "python",
   "name": "python2"
  },
  "language_info": {
   "codemirror_mode": {
    "name": "ipython",
    "version": 2
   },
   "file_extension": ".py",
   "mimetype": "text/x-python",
   "name": "python",
   "nbconvert_exporter": "python",
   "pygments_lexer": "ipython2",
   "version": "2.7.13"
  }
 },
 "nbformat": 4,
 "nbformat_minor": 2
}
